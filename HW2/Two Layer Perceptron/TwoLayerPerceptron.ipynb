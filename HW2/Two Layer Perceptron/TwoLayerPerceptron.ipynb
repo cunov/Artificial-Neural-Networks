{
 "cells": [
  {
   "cell_type": "code",
   "execution_count": 1,
   "metadata": {},
   "outputs": [],
   "source": [
    "import pandas as pd\n",
    "import numpy as np\n",
    "import sys\n",
    "\n",
    "def sumProduct(a,b):\n",
    "    return sum(x * y for x, y in zip(a, b))\n",
    "    "
   ]
  },
  {
   "cell_type": "code",
   "execution_count": 6,
   "metadata": {},
   "outputs": [
    {
     "ename": "SystemExit",
     "evalue": "0",
     "output_type": "error",
     "traceback": [
      "An exception has occurred, use %tb to see the full traceback.\n",
      "\u001b[1;31mSystemExit\u001b[0m\u001b[1;31m:\u001b[0m 0\n"
     ]
    }
   ],
   "source": [
    "train = pd.read_csv('training_set.csv',names=['x1','x2','t'])\n",
    "test = pd.read_csv('validation_set.csv',names=['x1','x2','t'])\n",
    "pVal = len(train)\n",
    "M1 = 3\n",
    "M2 = 2\n",
    "step = 0.02\n",
    "W = []\n",
    "W1 = -.2 + .4*np.random.rand(2,M1)\n",
    "W2 = -.2 + .4*np.random.rand(M1,M2)\n",
    "W3 = -.2 + .4*np.random.rand(M2,1)\n",
    "W1 = (W1 > 1) + 1\n",
    "W2 = (W2 > 2) + 1\n",
    "W3 = (W3 > 1) + 1\n",
    "W.append(W1)\n",
    "W.append(W2)\n",
    "W.append(W3)\n",
    "theta = [np.repeat(0,1),np.repeat(0,M1),np.repeat(0,M2),np.repeat(0,1)]\n",
    "X = ['x1','x2']\n",
    "b=[]\n",
    "V=[]\n",
    "for mu in range(pVal):\n",
    "    b.append(train.loc[mu,X].to_list())\n",
    "    V.append(b)\n",
    "    for l in range(3):\n",
    "        b.append(sumProduct(W[l],b[l]).tolist())\n",
    "        V.append(np.tanh(b[l]-theta[l]))\n",
    "    sys.exit(0)\n",
    "#     for l in range(3):\n",
    "#         V[l+1] = (W[l]*V[l])[0]\n",
    "#         sys.exit(0)\n",
    "    "
   ]
  },
  {
   "cell_type": "code",
   "execution_count": 7,
   "metadata": {},
   "outputs": [
    {
     "data": {
      "text/plain": [
       "[[-0.74724, 0.49435],\n",
       " [-0.25289, -0.25289, -0.25289],\n",
       " [-0.75867, -0.75867],\n",
       " [-1.51734]]"
      ]
     },
     "execution_count": 7,
     "metadata": {},
     "output_type": "execute_result"
    }
   ],
   "source": [
    "b"
   ]
  },
  {
   "cell_type": "code",
   "execution_count": 8,
   "metadata": {},
   "outputs": [
    {
     "data": {
      "text/plain": [
       "[[[-0.74724, 0.49435],\n",
       "  [-0.25289, -0.25289, -0.25289],\n",
       "  [-0.75867, -0.75867],\n",
       "  [-1.51734]],\n",
       " array([-0.63349949,  0.45766214]),\n",
       " array([-0.24763338, -0.24763338, -0.24763338]),\n",
       " array([-0.6402929, -0.6402929])]"
      ]
     },
     "execution_count": 8,
     "metadata": {},
     "output_type": "execute_result"
    }
   ],
   "source": [
    "V"
   ]
  },
  {
   "cell_type": "code",
   "execution_count": 9,
   "metadata": {},
   "outputs": [
    {
     "data": {
      "text/plain": [
       "[array([0]), array([0, 0, 0]), array([0, 0]), array([0])]"
      ]
     },
     "execution_count": 9,
     "metadata": {},
     "output_type": "execute_result"
    }
   ],
   "source": [
    "theta"
   ]
  },
  {
   "cell_type": "code",
   "execution_count": 5,
   "metadata": {},
   "outputs": [
    {
     "data": {
      "text/plain": [
       "0"
      ]
     },
     "execution_count": 5,
     "metadata": {},
     "output_type": "execute_result"
    }
   ],
   "source": [
    "5%1"
   ]
  },
  {
   "cell_type": "code",
   "execution_count": null,
   "metadata": {},
   "outputs": [],
   "source": []
  }
 ],
 "metadata": {
  "kernelspec": {
   "display_name": "Python 3",
   "language": "python",
   "name": "python3"
  },
  "language_info": {
   "codemirror_mode": {
    "name": "ipython",
    "version": 3
   },
   "file_extension": ".py",
   "mimetype": "text/x-python",
   "name": "python",
   "nbconvert_exporter": "python",
   "pygments_lexer": "ipython3",
   "version": "3.8.3"
  }
 },
 "nbformat": 4,
 "nbformat_minor": 4
}
